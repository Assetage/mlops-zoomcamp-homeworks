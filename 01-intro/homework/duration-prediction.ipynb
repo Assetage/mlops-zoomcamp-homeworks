{
 "cells": [
  {
   "cell_type": "code",
   "execution_count": 2,
   "id": "b2bd82d7",
   "metadata": {},
   "outputs": [
    {
     "name": "stdout",
     "output_type": "stream",
     "text": [
      "Python 3.9.18\n"
     ]
    }
   ],
   "source": [
    "!python -V"
   ]
  },
  {
   "cell_type": "code",
   "execution_count": 3,
   "id": "41062d8a",
   "metadata": {},
   "outputs": [],
   "source": [
    "import pandas as pd"
   ]
  },
  {
   "cell_type": "code",
   "execution_count": 4,
   "id": "c984c564",
   "metadata": {},
   "outputs": [],
   "source": [
    "import pickle"
   ]
  },
  {
   "cell_type": "code",
   "execution_count": 5,
   "id": "4add538c",
   "metadata": {},
   "outputs": [],
   "source": [
    "import seaborn as sns\n",
    "import matplotlib.pyplot as plt"
   ]
  },
  {
   "cell_type": "code",
   "execution_count": 6,
   "id": "8b135c2b",
   "metadata": {},
   "outputs": [],
   "source": [
    "from sklearn.feature_extraction import DictVectorizer\n",
    "from sklearn.linear_model import LinearRegression\n",
    "from sklearn.linear_model import Lasso\n",
    "from sklearn.linear_model import Ridge\n",
    "\n",
    "from sklearn.metrics import root_mean_squared_error"
   ]
  },
  {
   "cell_type": "markdown",
   "id": "89fb79b8",
   "metadata": {},
   "source": [
    "### Q1. Downloading the data\n",
    "We'll use the same NYC taxi dataset, but instead of \"Green Taxi Trip Records\", we'll use \"Yellow Taxi Trip Records\".\n",
    "\n",
    "Download the data for January and February 2023.\n",
    "\n",
    "Read the data for January. How many columns are there?"
   ]
  },
  {
   "cell_type": "code",
   "execution_count": 7,
   "id": "79c18808",
   "metadata": {},
   "outputs": [
    {
     "name": "stdout",
     "output_type": "stream",
     "text": [
      "Answer: 19\n"
     ]
    }
   ],
   "source": [
    "df_jan = pd.read_parquet(\"../../data/yellow_tripdata_2023-01.parquet\")\n",
    "no_columns = len(df_jan.columns)\n",
    "print(f\"Answer: {no_columns}\")"
   ]
  },
  {
   "cell_type": "markdown",
   "id": "7989d027",
   "metadata": {},
   "source": [
    "### Q2. Computing duration\n",
    "Now let's compute the duration variable. It should contain the duration of a ride in minutes.\n",
    "\n",
    "What's the standard deviation of the trips duration in January?"
   ]
  },
  {
   "cell_type": "code",
   "execution_count": 8,
   "id": "3997f00d",
   "metadata": {},
   "outputs": [
    {
     "name": "stdout",
     "output_type": "stream",
     "text": [
      "Answer: 42.59435124195458\n"
     ]
    }
   ],
   "source": [
    "df_jan[\"duration\"] = df_jan['tpep_dropoff_datetime'] - df_jan['tpep_pickup_datetime']\n",
    "df_jan['duration'] = df_jan[\"duration\"].apply(lambda td: td.total_seconds()/60)\n",
    "\n",
    "standard_deviation = df_jan[\"duration\"].std()\n",
    "\n",
    "print(f\"Answer: {standard_deviation}\")"
   ]
  },
  {
   "cell_type": "markdown",
   "id": "26f76394",
   "metadata": {},
   "source": [
    "### Q3. Dropping outliers\n",
    "Next, we need to check the distribution of the duration variable. There are some outliers. Let's remove them and keep only the records where the duration was between 1 and 60 minutes (inclusive).\n",
    "\n",
    "What fraction of the records left after you dropped the outliers?"
   ]
  },
  {
   "cell_type": "code",
   "execution_count": 9,
   "id": "d5063281",
   "metadata": {},
   "outputs": [
    {
     "name": "stdout",
     "output_type": "stream",
     "text": [
      "Answer: 98.12 %\n"
     ]
    }
   ],
   "source": [
    "before = len(df_jan)\n",
    "df_jan = df_jan[(df_jan.duration >=1) & (df_jan.duration <=60)]\n",
    "after = len(df_jan)\n",
    "fraction = round((after / before) * 100, 2)\n",
    "print(f\"Answer: {fraction} %\")"
   ]
  },
  {
   "cell_type": "markdown",
   "id": "1a32c37d",
   "metadata": {},
   "source": [
    "### Q4. One-hot encoding\n",
    "Let's apply one-hot encoding to the pickup and dropoff location IDs. We'll use only these two features for our model.\n",
    "\n",
    "Turn the dataframe into a list of dictionaries (remember to re-cast the ids to strings - otherwise it will label encode them)   \n",
    "Fit a dictionary vectorizer   \n",
    "Get a feature matrix from it   \n",
    "What's the dimensionality of this matrix (number of columns)?"
   ]
  },
  {
   "cell_type": "code",
   "execution_count": 10,
   "id": "22814b2c",
   "metadata": {},
   "outputs": [
    {
     "name": "stdout",
     "output_type": "stream",
     "text": [
      "Answer: 515\n"
     ]
    }
   ],
   "source": [
    "df_jan[['PULocationID', 'DOLocationID']] = df_jan[['PULocationID', 'DOLocationID']].astype(str)  \n",
    "\n",
    "dv = DictVectorizer()\n",
    "train_dicts = df_jan[['PULocationID', 'DOLocationID']].to_dict(orient='records')\n",
    "X_train = dv.fit_transform(train_dicts)\n",
    "dimension = X_train.shape[1]\n",
    "\n",
    "print(f\"Answer: {dimension}\")"
   ]
  },
  {
   "cell_type": "markdown",
   "id": "a9cf142a",
   "metadata": {},
   "source": [
    "### Q5. Training a model\n",
    "Now let's use the feature matrix from the previous step to train a model.\n",
    "\n",
    "Train a plain linear regression model with default parameters, where duration is the response variable   \n",
    "Calculate the RMSE of the model on the training data   \n",
    "What's the RMSE on train?"
   ]
  },
  {
   "cell_type": "code",
   "execution_count": 11,
   "id": "98524752",
   "metadata": {},
   "outputs": [
    {
     "name": "stdout",
     "output_type": "stream",
     "text": [
      "Answer:  7.6492619533128225\n"
     ]
    }
   ],
   "source": [
    "target = 'duration'\n",
    "y_train = df_jan[target].values\n",
    "model = LinearRegression()\n",
    "model.fit(X_train, y_train)\n",
    "y_pred = model.predict(X_train)\n",
    "RMSE = root_mean_squared_error(y_train, y_pred)\n",
    "print(\"Answer: \", RMSE)"
   ]
  },
  {
   "cell_type": "markdown",
   "id": "69308690",
   "metadata": {},
   "source": [
    "### Q6. Evaluating the model\n",
    "Now let's apply this model to the validation dataset (February 2023).\n",
    "\n",
    "What's the RMSE on validation?"
   ]
  },
  {
   "cell_type": "code",
   "execution_count": 12,
   "id": "23b05da3",
   "metadata": {},
   "outputs": [
    {
     "name": "stdout",
     "output_type": "stream",
     "text": [
      "Answer:  7.811816520976144\n"
     ]
    }
   ],
   "source": [
    "df_feb = pd.read_parquet(\"../../data/yellow_tripdata_2023-02.parquet\")\n",
    "df_feb[\"duration\"] = df_feb['tpep_dropoff_datetime'] - df_feb['tpep_pickup_datetime']\n",
    "df_feb['duration'] = df_feb[\"duration\"].apply(lambda td: td.total_seconds()/60)\n",
    "\n",
    "df_feb = df_feb[(df_feb.duration >=1) & (df_feb.duration <=60)]\n",
    "\n",
    "df_feb[['PULocationID', 'DOLocationID']] = df_feb[['PULocationID', 'DOLocationID']].astype(str)  \n",
    "validation_dicts = df_feb[['PULocationID', 'DOLocationID']].to_dict(orient='records')\n",
    "X_validation = dv.transform(validation_dicts)\n",
    "\n",
    "y_validation = df_feb['duration'].values\n",
    "y_prediction = model.predict(X_validation)\n",
    "RMSE_validation = root_mean_squared_error(y_validation, y_prediction)\n",
    "print(\"Answer: \", RMSE_validation)"
   ]
  }
 ],
 "metadata": {
  "kernelspec": {
   "display_name": "Python 3 (ipykernel)",
   "language": "python",
   "name": "python3"
  },
  "language_info": {
   "codemirror_mode": {
    "name": "ipython",
    "version": 3
   },
   "file_extension": ".py",
   "mimetype": "text/x-python",
   "name": "python",
   "nbconvert_exporter": "python",
   "pygments_lexer": "ipython3",
   "version": "3.9.18"
  }
 },
 "nbformat": 4,
 "nbformat_minor": 5
}
